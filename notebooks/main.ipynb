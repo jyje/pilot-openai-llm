{
 "cells": [
  {
   "cell_type": "markdown",
   "metadata": {},
   "source": [
    "# Pilot OpenAI LLM\n",
    "\n",
    "```sh\n",
    "pip install -r requirements.txt\n",
    "cp sample.env .env\n",
    "```\n",
    "Then, you can run the notebook.\n",
    "\n",
    "If you want to use another model, you can change the `OPENAI_MODEL` in the `.env` file."
   ]
  },
  {
   "cell_type": "code",
   "execution_count": 1,
   "metadata": {},
   "outputs": [],
   "source": [
    "from decouple import Config, RepositoryEnv\n",
    "from langchain_openai import ChatOpenAI\n",
    "\n",
    "config = Config(RepositoryEnv(\".env\"))\n",
    "\n",
    "OPENAI_BASE_URL = config(\"OPENAI_BASE_URL\")\n",
    "OPENAI_API_KEY = config(\"OPENAI_API_KEY\")\n",
    "OPENAI_MODEL = config(\"OPENAI_MODEL\")\n",
    "\n",
    "llm = ChatOpenAI(\n",
    "    base_url = OPENAI_BASE_URL,\n",
    "    api_key = OPENAI_API_KEY,\n",
    "    model = OPENAI_MODEL,\n",
    "    streaming = True,\n",
    ")\n",
    "\n",
    "def process_stream(chunk):\n",
    "    if chunk.content:\n",
    "        print(chunk.content, end=\"\")"
   ]
  },
  {
   "cell_type": "code",
   "execution_count": 2,
   "metadata": {},
   "outputs": [
    {
     "name": "stdout",
     "output_type": "stream",
     "text": [
      "```python\n",
      "def print_numbers():\n",
      "  \"\"\"1부터 10까지 숫자를 출력합니다.\"\"\"\n",
      "  for i in range(1, 11):\n",
      "    print(i)\n",
      "\n",
      "# 함수 호출\n",
      "print_numbers()\n",
      "```\n",
      "\n",
      "**설명:**\n",
      "\n",
      "*   `def print_numbers():`: `print_numbers`라는 이름의 함수를 정의합니다.\n",
      "*   `\"\"\"1부터 10까지 숫자를 출력합니다.\"\"\"`:  함수의 docstring입니다. 함수에 대한 설명을 제공합니다. (선택 사항)\n",
      "*   `for i in range(1, 11):`: `range(1, 11)`은 1부터 10까지의 숫자 시퀀스를 생성합니다. `for` 루프는 이 시퀀스의 각 숫자를 반복합니다.\n",
      "*   `print(i)`: 현재 숫자 `i`를 출력합니다.\n",
      "*   `print_numbers()`:  정의된 함수를 호출하여 실행합니다.\n",
      "\n",
      "**실행 결과:**\n",
      "\n",
      "```\n",
      "1\n",
      "2\n",
      "3\n",
      "4\n",
      "5\n",
      "6\n",
      "7\n",
      "8\n",
      "9\n",
      "10\n",
      "```"
     ]
    }
   ],
   "source": [
    "question = \"Python으로 1부터 10까지 출력하는 함수 만들어주세요\"\n",
    "\n",
    "for chunk in llm.stream(question):\n",
    "    process_stream(chunk)"
   ]
  },
  {
   "cell_type": "markdown",
   "metadata": {},
   "source": [
    "# Markdown ReCap"
   ]
  },
  {
   "cell_type": "markdown",
   "metadata": {},
   "source": [
    "```python\n",
    "def print_numbers():\n",
    "  \"\"\"1부터 10까지 숫자를 출력합니다.\"\"\"\n",
    "  for i in range(1, 11):\n",
    "    print(i)\n",
    "\n",
    "# 함수 호출\n",
    "print_numbers()\n",
    "```\n",
    "\n",
    "**설명:**\n",
    "\n",
    "*   `def print_numbers():`: `print_numbers`라는 이름의 함수를 정의합니다.\n",
    "*   `\"\"\"1부터 10까지 숫자를 출력합니다.\"\"\"`:  함수의 docstring입니다. 함수에 대한 설명을 제공합니다. (선택 사항)\n",
    "*   `for i in range(1, 11):`: `range(1, 11)`은 1부터 10까지의 숫자 시퀀스를 생성합니다. `for` 루프는 이 시퀀스의 각 숫자를 반복합니다.\n",
    "*   `print(i)`: 현재 숫자 `i`를 출력합니다.\n",
    "*   `print_numbers()`:  정의된 함수를 호출하여 실행합니다.\n",
    "\n",
    "**실행 결과:**\n",
    "\n",
    "```\n",
    "1\n",
    "2\n",
    "3\n",
    "4\n",
    "5\n",
    "6\n",
    "7\n",
    "8\n",
    "9\n",
    "10\n",
    "```"
   ]
  }
 ],
 "metadata": {
  "kernelspec": {
   "display_name": "pilot-openai-llm",
   "language": "python",
   "name": "python3"
  },
  "language_info": {
   "codemirror_mode": {
    "name": "ipython",
    "version": 3
   },
   "file_extension": ".py",
   "mimetype": "text/x-python",
   "name": "python",
   "nbconvert_exporter": "python",
   "pygments_lexer": "ipython3",
   "version": "3.13.2"
  }
 },
 "nbformat": 4,
 "nbformat_minor": 2
}
